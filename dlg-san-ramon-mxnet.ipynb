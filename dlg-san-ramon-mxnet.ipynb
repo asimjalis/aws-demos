{
 "cells": [
  {
   "cell_type": "markdown",
   "metadata": {},
   "source": [
    "# San Ramon Rents Using MXNet\n",
    "\n",
    "In this tutorial we'll walk through how to predict San Ramon rents using *linear regression* with MXNet.\n",
    "\n",
    "The rents data is based on <https://sfbay.craigslist.com>\n",
    "\n",
    "\n",
    "## San Ramon, California\n",
    "\n",
    "<img height=500 src=\"https://cdn.tollbrothers.com/communities/12871/images/2880BiancoExterior_920.jpg\">\n",
    "\n",
    "## Prerequisites\n",
    "\n",
    "To complete this tutorial, we need:  \n",
    "\n",
    "- jupyter\n",
    "- scikitlearn\n",
    "- pandas\n",
    "- numpy\n",
    "- matplotlib\n",
    "- mxnet\n",
    "\n",
    "## Imports\n",
    "\n",
    "To begin, the following code imports the necessary packages we'll need for this exercise."
   ]
  },
  {
   "cell_type": "code",
   "execution_count": 1,
   "metadata": {},
   "outputs": [],
   "source": [
    "import mxnet as mx\n",
    "import pandas as pd\n",
    "import numpy as np\n",
    "import matplotlib.pyplot as plt"
   ]
  },
  {
   "cell_type": "code",
   "execution_count": 2,
   "metadata": {},
   "outputs": [],
   "source": [
    "# Fix the random seed\n",
    "mx.random.seed(2727)\n",
    "\n",
    "import logging\n",
    "logging.getLogger().setLevel(logging.DEBUG)"
   ]
  },
  {
   "cell_type": "markdown",
   "metadata": {},
   "source": [
    "## Preparing the Data\n",
    "\n",
    "In MXNet, data is input via **Data Iterators**. Here we will illustrate\n",
    "how to encode a dataset into an iterator that MXNet can use. The data used in the example is made up of 2D data points with corresponding integer labels. "
   ]
  },
  {
   "cell_type": "code",
   "execution_count": 3,
   "metadata": {},
   "outputs": [],
   "source": [
    "# Get the rents as a data frame.\n",
    "rents_csv = \"/Users/asimjali/g/projects/aws-sage/san-ramon-rents.csv\"\n",
    "df = pd.read_csv(rents_csv)"
   ]
  },
  {
   "cell_type": "code",
   "execution_count": 4,
   "metadata": {},
   "outputs": [
    {
     "data": {
      "text/html": [
       "<div>\n",
       "<style>\n",
       "    .dataframe thead tr:only-child th {\n",
       "        text-align: right;\n",
       "    }\n",
       "\n",
       "    .dataframe thead th {\n",
       "        text-align: left;\n",
       "    }\n",
       "\n",
       "    .dataframe tbody tr th {\n",
       "        vertical-align: top;\n",
       "    }\n",
       "</style>\n",
       "<table border=\"1\" class=\"dataframe\">\n",
       "  <thead>\n",
       "    <tr style=\"text-align: right;\">\n",
       "      <th></th>\n",
       "      <th>rent</th>\n",
       "      <th>br</th>\n",
       "      <th>ft2</th>\n",
       "    </tr>\n",
       "  </thead>\n",
       "  <tbody>\n",
       "    <tr>\n",
       "      <th>count</th>\n",
       "      <td>256.000000</td>\n",
       "      <td>256.000000</td>\n",
       "      <td>256.000000</td>\n",
       "    </tr>\n",
       "    <tr>\n",
       "      <th>mean</th>\n",
       "      <td>2787.437500</td>\n",
       "      <td>2.175781</td>\n",
       "      <td>1179.835938</td>\n",
       "    </tr>\n",
       "    <tr>\n",
       "      <th>std</th>\n",
       "      <td>878.821057</td>\n",
       "      <td>0.943689</td>\n",
       "      <td>642.734242</td>\n",
       "    </tr>\n",
       "    <tr>\n",
       "      <th>min</th>\n",
       "      <td>1800.000000</td>\n",
       "      <td>1.000000</td>\n",
       "      <td>400.000000</td>\n",
       "    </tr>\n",
       "    <tr>\n",
       "      <th>25%</th>\n",
       "      <td>2300.000000</td>\n",
       "      <td>2.000000</td>\n",
       "      <td>800.000000</td>\n",
       "    </tr>\n",
       "    <tr>\n",
       "      <th>50%</th>\n",
       "      <td>2575.000000</td>\n",
       "      <td>2.000000</td>\n",
       "      <td>953.000000</td>\n",
       "    </tr>\n",
       "    <tr>\n",
       "      <th>75%</th>\n",
       "      <td>2961.250000</td>\n",
       "      <td>3.000000</td>\n",
       "      <td>1253.500000</td>\n",
       "    </tr>\n",
       "    <tr>\n",
       "      <th>max</th>\n",
       "      <td>9500.000000</td>\n",
       "      <td>5.000000</td>\n",
       "      <td>5200.000000</td>\n",
       "    </tr>\n",
       "  </tbody>\n",
       "</table>\n",
       "</div>"
      ],
      "text/plain": [
       "              rent          br          ft2\n",
       "count   256.000000  256.000000   256.000000\n",
       "mean   2787.437500    2.175781  1179.835938\n",
       "std     878.821057    0.943689   642.734242\n",
       "min    1800.000000    1.000000   400.000000\n",
       "25%    2300.000000    2.000000   800.000000\n",
       "50%    2575.000000    2.000000   953.000000\n",
       "75%    2961.250000    3.000000  1253.500000\n",
       "max    9500.000000    5.000000  5200.000000"
      ]
     },
     "execution_count": 4,
     "metadata": {},
     "output_type": "execute_result"
    }
   ],
   "source": [
    "# Let's take a look at the data.\n",
    "df.describe()"
   ]
  },
  {
   "cell_type": "code",
   "execution_count": 5,
   "metadata": {},
   "outputs": [],
   "source": [
    "# Split the data into features (X) and label (y)\n",
    "label_column = 'rent'\n",
    "X = df.drop(label_column, axis=1)\n",
    "y = df[label_column]\n",
    "\n",
    "# Split data set into training and test sets.\n",
    "from sklearn.model_selection import train_test_split\n",
    "X_train, X_test, y_train, y_test = train_test_split(X, y, test_size=0.30)\n",
    "\n",
    "# Since ft2 is much larger than br we can scale to standardize the features.\n",
    "scale_features = True\n",
    "if scale_features:\n",
    "    # Scale features automatically extracts feature numpy arrays.\n",
    "    from sklearn import preprocessing\n",
    "    std_scale = preprocessing.StandardScaler().fit(X_train)\n",
    "    X_train = std_scale.transform(X_train)\n",
    "    X_test = std_scale.transform(X_test)\n",
    "else:\n",
    "    # Extract feature numpy arrays.\n",
    "    X_train = X_train.values\n",
    "    X_test = X_test.values\n",
    "\n",
    "# Extract label numpy arrays.\n",
    "y_train = y_train.values\n",
    "y_test = y_test.values\n",
    "        \n",
    "# How many examples do we train on at a time.\n",
    "batch_size = 30"
   ]
  },
  {
   "cell_type": "markdown",
   "metadata": {},
   "source": [
    "Once we have the data ready, we need to put it into an iterator and specify\n",
    "parameters such as `batch_size` and `shuffle`. `batch_size` specifies the number\n",
    "of examples shown to the model each time we update its parameters and `shuffle`\n",
    "tells the iterator to randomize the order in which examples are shown to the model."
   ]
  },
  {
   "cell_type": "code",
   "execution_count": 6,
   "metadata": {},
   "outputs": [],
   "source": [
    "train_iter = mx.io.NDArrayIter(X_train, y_train, batch_size, shuffle=True, label_name='lin_reg_label')\n",
    "eval_iter = mx.io.NDArrayIter(X_test, y_test, batch_size, shuffle=False, label_name='lin_reg_label')"
   ]
  },
  {
   "cell_type": "markdown",
   "metadata": {},
   "source": [
    "In the above example, we have made use of `NDArrayIter`, which is useful for iterating\n",
    "over both numpy ndarrays and MXNet NDArrays. In general, there are different types of iterators in\n",
    "MXNet and you can use one based on the type of data you are processing.\n",
    "Documentation for iterators can be found [here](http://mxnet.io/api/python/io/io.html).\n",
    "\n",
    "## MXNet Classes\n",
    "\n",
    "1. **IO:** The IO class as we already saw works on the data and carries out\n",
    "   operations such as feeding data in batches and shuffling.\n",
    "   \n",
    "2. **Symbol:** The actual MXNet neural network is composed using symbols. MXNet has\n",
    "   different types of symbols, including variable placeholders for input data,\n",
    "   neural network layers, and operators that manipulate NDArrays.\n",
    "\n",
    "3. **Module:** The module class in MXNet is used to define the overall computation.\n",
    "\tIt is initialized with the model we want to train, the training inputs (data and labels)\n",
    "\tand some additional parameters such as learning rate and the optimization\n",
    "\talgorithm to use.\n",
    "\n",
    "## Defining the Model\n",
    "\n",
    "MXNet uses **Symbols** for defining a model. Symbols are the building blocks \n",
    "and make up various components of the model. Symbols are used to define:\n",
    "\n",
    "1. **Variables:** A variable is a placeholder for future data. This symbol is used\n",
    "   to define a spot which will be filled with training data/labels in the future\n",
    "   when we commence training.\n",
    "2. **Neural Network Layers:** The layers of a network or any other type of model are\n",
    "   also defined by Symbols. Such a symbol takes one or more previous symbols as\n",
    "   inputs, performs some transformations on them, and creates one or more outputs.\n",
    "   One such example is the `FullyConnected` symbol which specifies a fully connected\n",
    "   layer of a neural network.\n",
    "3. **Outputs:** Output symbols are MXNet's way of defining a loss. They are\n",
    "   suffixed with the word \"Output\" (eg. the `SoftmaxOutput` layer). You can also\n",
    "   [create your own loss function](https://github.com/dmlc/mxnet/blob/master/docs/tutorials/r/CustomLossFunction.md#how-to-use-your-own-loss-function).\n",
    "   Some examples of existing losses are: `LinearRegressionOutput`, which computes\n",
    "   the l2-loss between it's input symbol and the labels provided to it;\n",
    "   `SoftmaxOutput`, which computes the categorical cross-entropy.\n",
    "\n",
    "The ones described above and other symbols are chained together with the output of\n",
    "one symbol serving as input to the next to build the network topology. More information\n",
    "about the different types of symbols can be found [here](http://mxnet.io/api/python/symbol/symbol.html)."
   ]
  },
  {
   "cell_type": "code",
   "execution_count": 7,
   "metadata": {},
   "outputs": [],
   "source": [
    "X = mx.sym.Variable('data')\n",
    "Y = mx.symbol.Variable('lin_reg_label')\n",
    "fully_connected_layer  = mx.sym.FullyConnected(data=X, name='fc1', num_hidden = 1)\n",
    "lro = mx.sym.LinearRegressionOutput(data=fully_connected_layer, label=Y, name=\"lro\")"
   ]
  },
  {
   "cell_type": "markdown",
   "metadata": {},
   "source": [
    "The above network uses the following layers:\n",
    "\n",
    "1. `FullyConnected`: The fully connected symbol represents a fully connected layer\n",
    "   of a neural network (without any activation being applied), which in essence,\n",
    "   is just a linear regression on the input attributes. It takes the following\n",
    "   parameters:\n",
    "\n",
    "   - `data`: Input to the layer (specifies the symbol whose output should be fed here)\n",
    "   - `num_hidden`: Number of hidden neurons in the layer, which is same as the dimensionality\n",
    "     of the layer's output\n",
    "\n",
    "2. `LinearRegressionOutput`: Output layers in MXNet compute training loss, which is\n",
    "\tthe measure of inaccuracy in the model's predictions. The goal of training is to minimize the\n",
    "\ttraining loss. In our example, the `LinearRegressionOutput` layer computes the *l2* loss against\n",
    "\tits input and the labels provided to it. The parameters to this layer are:\n",
    "\n",
    "   - `data`: Input to this layer (specifies the symbol whose output should be fed here)\n",
    "   - `label`: The training labels against which we will compare the input to the layer for calculation of l2 loss"
   ]
  },
  {
   "cell_type": "markdown",
   "metadata": {},
   "source": [
    "## Visualize Network\n",
    "\n",
    "We can visualize the network we created by plotting it:"
   ]
  },
  {
   "cell_type": "code",
   "execution_count": 8,
   "metadata": {},
   "outputs": [
    {
     "data": {
      "image/svg+xml": [
       "<?xml version=\"1.0\" encoding=\"UTF-8\" standalone=\"no\"?>\n",
       "<!DOCTYPE svg PUBLIC \"-//W3C//DTD SVG 1.1//EN\"\n",
       " \"http://www.w3.org/Graphics/SVG/1.1/DTD/svg11.dtd\">\n",
       "<!-- Generated by graphviz version 2.40.1 (20161225.0304)\n",
       " -->\n",
       "<!-- Title: plot Pages: 1 -->\n",
       "<svg width=\"214pt\" height=\"254pt\"\n",
       " viewBox=\"0.00 0.00 214.00 254.00\" xmlns=\"http://www.w3.org/2000/svg\" xmlns:xlink=\"http://www.w3.org/1999/xlink\">\n",
       "<g id=\"graph0\" class=\"graph\" transform=\"scale(1 1) rotate(0) translate(4 250)\">\n",
       "<title>plot</title>\n",
       "<polygon fill=\"#ffffff\" stroke=\"transparent\" points=\"-4,4 -4,-250 210,-250 210,4 -4,4\"/>\n",
       "<!-- data -->\n",
       "<g id=\"node1\" class=\"node\">\n",
       "<title>data</title>\n",
       "<ellipse fill=\"#8dd3c7\" stroke=\"#000000\" cx=\"47\" cy=\"-29\" rx=\"47\" ry=\"29\"/>\n",
       "<text text-anchor=\"middle\" x=\"47\" y=\"-24.8\" font-family=\"Times,serif\" font-size=\"14.00\" fill=\"#000000\">data</text>\n",
       "</g>\n",
       "<!-- fc1 -->\n",
       "<g id=\"node2\" class=\"node\">\n",
       "<title>fc1</title>\n",
       "<polygon fill=\"#fb8072\" stroke=\"#000000\" points=\"94,-152 0,-152 0,-94 94,-94 94,-152\"/>\n",
       "<text text-anchor=\"middle\" x=\"47\" y=\"-125.8\" font-family=\"Times,serif\" font-size=\"14.00\" fill=\"#000000\">FullyConnected</text>\n",
       "<text text-anchor=\"middle\" x=\"47\" y=\"-111.8\" font-family=\"Times,serif\" font-size=\"14.00\" fill=\"#000000\">1</text>\n",
       "</g>\n",
       "<!-- fc1&#45;&gt;data -->\n",
       "<g id=\"edge1\" class=\"edge\">\n",
       "<title>fc1&#45;&gt;data</title>\n",
       "<path fill=\"none\" stroke=\"#000000\" d=\"M47,-83.6321C47,-75.1148 47,-66.2539 47,-58.2088\"/>\n",
       "<polygon fill=\"#000000\" stroke=\"#000000\" points=\"47,-93.7731 42.5001,-83.773 47,-88.7731 47.0001,-83.7731 47.0001,-83.7731 47.0001,-83.7731 47,-88.7731 51.5001,-83.7731 47,-93.7731 47,-93.7731\"/>\n",
       "</g>\n",
       "<!-- lin_reg_label -->\n",
       "<g id=\"node3\" class=\"node\">\n",
       "<title>lin_reg_label</title>\n",
       "<ellipse fill=\"#8dd3c7\" stroke=\"#000000\" cx=\"159\" cy=\"-123\" rx=\"47\" ry=\"29\"/>\n",
       "<text text-anchor=\"middle\" x=\"159\" y=\"-118.8\" font-family=\"Times,serif\" font-size=\"14.00\" fill=\"#000000\">lin_reg_label</text>\n",
       "</g>\n",
       "<!-- lro -->\n",
       "<g id=\"node4\" class=\"node\">\n",
       "<title>lro</title>\n",
       "<polygon fill=\"#fccde5\" stroke=\"#000000\" points=\"150,-246 56,-246 56,-188 150,-188 150,-246\"/>\n",
       "<text text-anchor=\"middle\" x=\"103\" y=\"-212.8\" font-family=\"Times,serif\" font-size=\"14.00\" fill=\"#000000\">lro</text>\n",
       "</g>\n",
       "<!-- lro&#45;&gt;fc1 -->\n",
       "<g id=\"edge2\" class=\"edge\">\n",
       "<title>lro&#45;&gt;fc1</title>\n",
       "<path fill=\"none\" stroke=\"#000000\" d=\"M80.3812,-179.0328C75.0542,-170.091 69.4571,-160.6959 64.401,-152.2088\"/>\n",
       "<polygon fill=\"#000000\" stroke=\"#000000\" points=\"85.5882,-187.7731 76.6042,-181.4852 83.0292,-183.4776 80.4701,-179.1821 80.4701,-179.1821 80.4701,-179.1821 83.0292,-183.4776 84.3361,-176.8789 85.5882,-187.7731 85.5882,-187.7731\"/>\n",
       "</g>\n",
       "<!-- lro&#45;&gt;lin_reg_label -->\n",
       "<g id=\"edge3\" class=\"edge\">\n",
       "<title>lro&#45;&gt;lin_reg_label</title>\n",
       "<path fill=\"none\" stroke=\"#000000\" d=\"M125.5712,-179.1126C131.3182,-169.4659 137.3825,-159.2865 142.7449,-150.2854\"/>\n",
       "<polygon fill=\"#000000\" stroke=\"#000000\" points=\"120.4118,-187.7731 121.6639,-176.8789 122.9708,-183.4776 125.5299,-179.1821 125.5299,-179.1821 125.5299,-179.1821 122.9708,-183.4776 129.3958,-181.4852 120.4118,-187.7731 120.4118,-187.7731\"/>\n",
       "</g>\n",
       "</g>\n",
       "</svg>\n"
      ],
      "text/plain": [
       "<graphviz.dot.Digraph at 0x10c577750>"
      ]
     },
     "execution_count": 8,
     "metadata": {},
     "output_type": "execute_result"
    }
   ],
   "source": [
    "mx.viz.plot_network(symbol=lro)"
   ]
  },
  {
   "cell_type": "markdown",
   "metadata": {},
   "source": [
    "**Note on naming convention:** the label variable's name should be the same as the\n",
    "`label_name` parameter passed to your training data iterator. The default value of\n",
    "this is `softmax_label`, but we have updated it to `lin_reg_label` in this\n",
    "tutorial as you can see in `Y = mx.symbol.Variable('lin_reg_label')` and\n",
    "`train_iter = mx.io.NDArrayIter(..., label_name='lin_reg_label')`.\n",
    "\n",
    "\n",
    "## Module\n",
    "\n",
    "Finally, the network is input to a *Module*, where we specify the symbol\n",
    "whose output needs to be minimized (in our case, `lro` or the `lin_reg_output`), the\n",
    "learning rate to be used while optimization and the number of epochs we want to\n",
    "train our model for."
   ]
  },
  {
   "cell_type": "code",
   "execution_count": 9,
   "metadata": {},
   "outputs": [],
   "source": [
    "# Network structure.\n",
    "model = mx.mod.Module(\n",
    "    symbol = lro ,\n",
    "    data_names=['data'],\n",
    "    label_names = ['lin_reg_label']\n",
    ")"
   ]
  },
  {
   "cell_type": "code",
   "execution_count": 10,
   "metadata": {},
   "outputs": [],
   "source": [
    "model.bind(data_shapes=train_iter.provide_data, label_shapes=train_iter.provide_label) \n",
    "init = mx.init.Uniform(0.1)\n",
    "model.init_params(init)"
   ]
  },
  {
   "cell_type": "markdown",
   "metadata": {},
   "source": [
    "## Training the model\n",
    "\n",
    "Once we have defined the model structure, the next step is to train the\n",
    "parameters of the model to fit the training data. This is accomplished using the\n",
    "`fit()` function of the `Module` class.\n",
    "\n",
    "Speedometer determines how often we get a callback during training with error data. We will be called every 2 batches if the second argument is 2."
   ]
  },
  {
   "cell_type": "code",
   "execution_count": null,
   "metadata": {},
   "outputs": [],
   "source": [
    "model.fit(train_iter, eval_iter,\n",
    "            optimizer = \"adam\",\n",
    "            optimizer_params = {'learning_rate': 8.0},\n",
    "            num_epoch=800,\n",
    "            eval_metric='rmse',\n",
    "            batch_end_callback = mx.callback.Speedometer(batch_size, 2))"
   ]
  },
  {
   "cell_type": "markdown",
   "metadata": {},
   "source": [
    "## Using a trained model: (Testing and Inference)\n",
    "\n",
    "Once we have a trained model, we can do a couple of things with it - we can either\n",
    "use it for inference or we can evaluate the trained model on test data. The latter is shown below:"
   ]
  },
  {
   "cell_type": "code",
   "execution_count": 12,
   "metadata": {},
   "outputs": [
    {
     "name": "stdout",
     "output_type": "stream",
     "text": [
      "RMSE = 809.212641343\n",
      "MAPE = 18.96%\n",
      "Accuracy = 81.04%\n"
     ]
    },
    {
     "data": {
      "image/png": "[encoded data removed]",
      "text/plain": [
       "<matplotlib.figure.Figure at 0x10bac9450>"
      ]
     },
     "metadata": {},
     "output_type": "display_data"
    }
   ],
   "source": [
    "# Let's find out how we did.\n",
    "y_predict = model.predict(eval_iter).asnumpy()\n",
    "\n",
    "# RMSE is Root Mean Square Error.\n",
    "rmse = np.sqrt(np.mean((y_predict - y_test)**2))\n",
    "print('RMSE = {}'.format(rmse))\n",
    "\n",
    "# MAPE is Median Absolute Percentage Error.\n",
    "mape = 100 * np.median(np.abs(y_test - y_predict) / y_test)\n",
    "print('MAPE = {}%'.format(round(mape, 2)))\n",
    "\n",
    "# Accuracy is the opposite of MAPE.\n",
    "accuracy = 100 - mape\n",
    "print('Accuracy = {}%'.format(round(accuracy, 2)))\n",
    "\n",
    "# Plot the predictions against the actual values.\n",
    "plt.plot(np.array(y_test), label='actual')\n",
    "plt.plot(y_predict, label='predict')\n",
    "plt.legend()\n",
    "plt.show()"
   ]
  }
 ],
 "metadata": {
  "display_name": "",
  "kernelspec": {
   "display_name": "Python 2",
   "language": "python",
   "name": "python2"
  },
  "language_info": {
   "codemirror_mode": {
    "name": "ipython",
    "version": 2
   },
   "file_extension": ".py",
   "mimetype": "text/x-python",
   "name": "python",
   "nbconvert_exporter": "python",
   "pygments_lexer": "ipython2",
   "version": "2.7.13"
  },
  "name": ""
 },
 "nbformat": 4,
 "nbformat_minor": 2
}
